{
 "cells": [
  {
   "cell_type": "markdown",
   "metadata": {},
   "source": [
    "# Google Stock Price Predcition using LSTM"
   ]
  },
  {
   "cell_type": "markdown",
   "metadata": {},
   "source": [
    "In this notebook, I will work with data downloded from Yahoo Finance to predict Google's stock price using LSTM to realize multi-variable time series forecasting"
   ]
  },
  {
   "cell_type": "markdown",
   "metadata": {},
   "source": [
    "## 1. Data Pre-processing "
   ]
  },
  {
   "cell_type": "markdown",
   "metadata": {},
   "source": [
    "### 1.0 Fire the system"
   ]
  },
  {
   "cell_type": "code",
   "execution_count": 1,
   "metadata": {
    "tags": []
   },
   "outputs": [
    {
     "name": "stderr",
     "output_type": "stream",
     "text": [
      "2023-01-12 20:02:23.211178: I tensorflow/core/platform/cpu_feature_guard.cc:193] This TensorFlow binary is optimized with oneAPI Deep Neural Network Library (oneDNN) to use the following CPU instructions in performance-critical operations:  AVX2 FMA\n",
      "To enable them in other operations, rebuild TensorFlow with the appropriate compiler flags.\n"
     ]
    }
   ],
   "source": [
    "# Import modules and packages\n",
    "import numpy as np\n",
    "import pandas as pd\n",
    "import matplotlib.pyplot as plt\n",
    "import datetime as dt\n",
    "from datetime import datetime\n",
    "\n",
    "from keras.callbacks import EarlyStopping, ReduceLROnPlateau, ModelCheckpoint, TensorBoard\n",
    "\n",
    "%matplotlib inline"
   ]
  },
  {
   "cell_type": "markdown",
   "metadata": {},
   "source": [
    "### 1.1 Read data "
   ]
  },
  {
   "cell_type": "code",
   "execution_count": 2,
   "metadata": {
    "tags": []
   },
   "outputs": [
    {
     "name": "stdout",
     "output_type": "stream",
     "text": [
      "Training set shape == (4006, 7)\n",
      "All timestamps == 4006\n",
      "Featured selected: ['Open', 'High', 'Low', 'Close', 'Adj Close']\n"
     ]
    }
   ],
   "source": [
    "# Importing Training Set\n",
    "dataset_train = pd.read_csv('GOOG.csv')\n",
    "\n",
    "# Select features (columns) to be involved intro training and predictions\n",
    "cols = list(dataset_train)[1:6]\n",
    "\n",
    "# Extract dates (will be used in visualization)\n",
    "datelist_train = list(dataset_train['Date'])\n",
    "datelist_train = [dt.datetime.strptime(date, '%Y-%m-%d').date() for date in datelist_train]\n",
    "\n",
    "print('Training set shape == {}'.format(dataset_train.shape))\n",
    "print('All timestamps == {}'.format(len(datelist_train)))\n",
    "print('Featured selected: {}'.format(cols))"
   ]
  },
  {
   "cell_type": "markdown",
   "metadata": {},
   "source": [
    "### 1.2 Data pre-processing\n",
    "<p>\n",
    "Removing all commas and convert data to matrix shape format.\n",
    "</p>"
   ]
  },
  {
   "cell_type": "code",
   "execution_count": 3,
   "metadata": {
    "tags": []
   },
   "outputs": [
    {
     "name": "stdout",
     "output_type": "stream",
     "text": [
      "Shape of training set == (4006, 5).\n"
     ]
    },
    {
     "data": {
      "text/plain": [
       "array([[  49.813286,   51.835709,   47.800831,   49.982655,   49.982655],\n",
       "       [  50.316402,   54.336334,   50.062355,   53.95277 ,   53.95277 ],\n",
       "       [  55.168217,   56.528118,   54.321388,   54.495735,   54.495735],\n",
       "       ...,\n",
       "       [1523.130005, 1535.329956, 1498.      , 1513.640015, 1513.640015],\n",
       "       [1500.      , 1518.689941, 1486.310059, 1518.      , 1518.      ],\n",
       "       [1521.619995, 1523.439941, 1498.420044, 1515.550049, 1515.550049]])"
      ]
     },
     "execution_count": 3,
     "metadata": {},
     "output_type": "execute_result"
    }
   ],
   "source": [
    "dataset_train = dataset_train[cols].astype(str)\n",
    "for i in cols:\n",
    "    for j in range(0, len(dataset_train)):\n",
    "        dataset_train[i][j] = dataset_train[i][j].replace(',', '')\n",
    "\n",
    "dataset_train = dataset_train.astype(float)\n",
    "\n",
    "# Using multiple features (predictors)\n",
    "training_set = dataset_train.to_numpy()\n",
    "\n",
    "print('Shape of training set == {}.'.format(training_set.shape))\n",
    "training_set"
   ]
  },
  {
   "cell_type": "code",
   "execution_count": 4,
   "metadata": {
    "tags": []
   },
   "outputs": [
    {
     "data": {
      "text/plain": [
       "array([[-1.27195197],\n",
       "       [-1.27058974],\n",
       "       [-1.25745309],\n",
       "       ...,\n",
       "       [ 2.71716347],\n",
       "       [ 2.65453724],\n",
       "       [ 2.713075  ]])"
      ]
     },
     "execution_count": 4,
     "metadata": {},
     "output_type": "execute_result"
    }
   ],
   "source": [
    "# Feature Scaling\n",
    "from sklearn.preprocessing import StandardScaler\n",
    "\n",
    "sc = StandardScaler()\n",
    "training_set_scaled = sc.fit_transform(training_set)\n",
    "\n",
    "sc_predict = StandardScaler()\n",
    "sc_predict.fit_transform(training_set[:, 0:1])"
   ]
  },
  {
   "cell_type": "code",
   "execution_count": 5,
   "metadata": {
    "tags": []
   },
   "outputs": [
    {
     "name": "stdout",
     "output_type": "stream",
     "text": [
      "X_train shape == (3857, 90, 4).\n",
      "y_train shape == (3857, 1).\n"
     ]
    }
   ],
   "source": [
    "# Creating a data structure with 90 timestamps and 1 output\n",
    "X_train = []\n",
    "y_train = []\n",
    "\n",
    "n_future = 60   # Number of days we want top predict into the future\n",
    "n_past = 90     # Number of past days we want to use to predict the future\n",
    "\n",
    "for i in range(n_past, len(training_set_scaled) - n_future +1):\n",
    "    X_train.append(training_set_scaled[i - n_past:i, 0:dataset_train.shape[1] - 1])\n",
    "    y_train.append(training_set_scaled[i + n_future - 1:i + n_future, 0])\n",
    "\n",
    "X_train, y_train = np.array(X_train), np.array(y_train)\n",
    "\n",
    "print('X_train shape == {}.'.format(X_train.shape))\n",
    "print('y_train shape == {}.'.format(y_train.shape))"
   ]
  },
  {
   "cell_type": "markdown",
   "metadata": {},
   "source": [
    "## 2. Create a training model "
   ]
  },
  {
   "cell_type": "markdown",
   "metadata": {},
   "source": [
    "### 2.0 Building the LSTM based Neural Network "
   ]
  },
  {
   "cell_type": "code",
   "execution_count": 6,
   "metadata": {},
   "outputs": [],
   "source": [
    "# Import Libraries and packages from Keras\n",
    "from keras.models import Sequential\n",
    "from keras.layers import Dense\n",
    "from keras.layers import LSTM\n",
    "from keras.layers import Dropout\n",
    "from keras.optimizers import Adam"
   ]
  },
  {
   "cell_type": "code",
   "execution_count": 7,
   "metadata": {
    "tags": []
   },
   "outputs": [
    {
     "name": "stderr",
     "output_type": "stream",
     "text": [
      "2023-01-12 20:02:28.182301: I tensorflow/core/platform/cpu_feature_guard.cc:193] This TensorFlow binary is optimized with oneAPI Deep Neural Network Library (oneDNN) to use the following CPU instructions in performance-critical operations:  AVX2 FMA\n",
      "To enable them in other operations, rebuild TensorFlow with the appropriate compiler flags.\n"
     ]
    }
   ],
   "source": [
    "# Initializing the Neural Network based on LSTM\n",
    "model = Sequential()\n",
    "\n",
    "# Adding 1st LSTM layer\n",
    "model.add(LSTM(units=64, return_sequences=True, input_shape=(n_past, dataset_train.shape[1]-1)))\n",
    "\n",
    "# Adding 2nd LSTM layer\n",
    "model.add(LSTM(units=10, return_sequences=False))\n",
    "\n",
    "# Adding Dropout\n",
    "model.add(Dropout(0.25))\n",
    "\n",
    "# Output layer\n",
    "model.add(Dense(units=1, activation='linear'))\n",
    "\n",
    "# Compiling the Neural Network\n",
    "model.compile(optimizer = Adam(learning_rate=0.01), loss='mean_squared_error')"
   ]
  },
  {
   "cell_type": "markdown",
   "metadata": {},
   "source": [
    "### 2.1 Start training"
   ]
  },
  {
   "cell_type": "code",
   "execution_count": 8,
   "metadata": {
    "scrolled": false,
    "tags": []
   },
   "outputs": [
    {
     "name": "stdout",
     "output_type": "stream",
     "text": [
      "Epoch 1/30\n",
      "12/13 [==========================>...] - ETA: 0s - loss: 0.1334\n",
      "Epoch 1: val_loss improved from inf to 1.01868, saving model to weights.h5\n",
      "13/13 [==============================] - 4s 140ms/step - loss: 0.1330 - val_loss: 1.0187 - lr: 0.0100\n",
      "Epoch 2/30\n",
      "12/13 [==========================>...] - ETA: 0s - loss: 0.0364\n",
      "Epoch 2: val_loss improved from 1.01868 to 0.77099, saving model to weights.h5\n",
      "13/13 [==============================] - 1s 100ms/step - loss: 0.0363 - val_loss: 0.7710 - lr: 0.0100\n",
      "Epoch 3/30\n",
      "12/13 [==========================>...] - ETA: 0s - loss: 0.0322\n",
      "Epoch 3: val_loss improved from 0.77099 to 0.38899, saving model to weights.h5\n",
      "13/13 [==============================] - 1s 101ms/step - loss: 0.0322 - val_loss: 0.3890 - lr: 0.0100\n",
      "Epoch 4/30\n",
      "12/13 [==========================>...] - ETA: 0s - loss: 0.0315\n",
      "Epoch 4: val_loss improved from 0.38899 to 0.28796, saving model to weights.h5\n",
      "13/13 [==============================] - 1s 101ms/step - loss: 0.0315 - val_loss: 0.2880 - lr: 0.0100\n",
      "Epoch 5/30\n",
      "12/13 [==========================>...] - ETA: 0s - loss: 0.0302\n",
      "Epoch 5: val_loss did not improve from 0.28796\n",
      "13/13 [==============================] - 1s 112ms/step - loss: 0.0301 - val_loss: 0.4884 - lr: 0.0100\n",
      "Epoch 6/30\n",
      "12/13 [==========================>...] - ETA: 0s - loss: 0.0304\n",
      "Epoch 6: val_loss did not improve from 0.28796\n",
      "13/13 [==============================] - 1s 109ms/step - loss: 0.0305 - val_loss: 0.3115 - lr: 0.0100\n",
      "Epoch 7/30\n",
      "12/13 [==========================>...] - ETA: 0s - loss: 0.0290\n",
      "Epoch 7: val_loss improved from 0.28796 to 0.17140, saving model to weights.h5\n",
      "13/13 [==============================] - 1s 98ms/step - loss: 0.0289 - val_loss: 0.1714 - lr: 0.0100\n",
      "Epoch 8/30\n",
      "12/13 [==========================>...] - ETA: 0s - loss: 0.0277\n",
      "Epoch 8: val_loss improved from 0.17140 to 0.16845, saving model to weights.h5\n",
      "13/13 [==============================] - 1s 99ms/step - loss: 0.0277 - val_loss: 0.1685 - lr: 0.0100\n",
      "Epoch 9/30\n",
      "12/13 [==========================>...] - ETA: 0s - loss: 0.0278\n",
      "Epoch 9: val_loss improved from 0.16845 to 0.09924, saving model to weights.h5\n",
      "13/13 [==============================] - 1s 98ms/step - loss: 0.0279 - val_loss: 0.0992 - lr: 0.0100\n",
      "Epoch 10/30\n",
      "12/13 [==========================>...] - ETA: 0s - loss: 0.0264\n",
      "Epoch 10: val_loss did not improve from 0.09924\n",
      "13/13 [==============================] - 1s 97ms/step - loss: 0.0264 - val_loss: 0.1133 - lr: 0.0100\n",
      "Epoch 11/30\n",
      "12/13 [==========================>...] - ETA: 0s - loss: 0.0265\n",
      "Epoch 11: val_loss improved from 0.09924 to 0.09757, saving model to weights.h5\n",
      "13/13 [==============================] - 1s 98ms/step - loss: 0.0265 - val_loss: 0.0976 - lr: 0.0100\n",
      "Epoch 12/30\n",
      "12/13 [==========================>...] - ETA: 0s - loss: 0.0285\n",
      "Epoch 12: val_loss did not improve from 0.09757\n",
      "13/13 [==============================] - 1s 99ms/step - loss: 0.0285 - val_loss: 0.2479 - lr: 0.0100\n",
      "Epoch 13/30\n",
      "12/13 [==========================>...] - ETA: 0s - loss: 0.0284\n",
      "Epoch 13: val_loss did not improve from 0.09757\n",
      "13/13 [==============================] - 1s 98ms/step - loss: 0.0284 - val_loss: 0.1013 - lr: 0.0100\n",
      "Epoch 14/30\n",
      "12/13 [==========================>...] - ETA: 0s - loss: 0.0264\n",
      "Epoch 14: val_loss did not improve from 0.09757\n",
      "13/13 [==============================] - 1s 98ms/step - loss: 0.0264 - val_loss: 0.1159 - lr: 0.0100\n",
      "Epoch 15/30\n",
      "12/13 [==========================>...] - ETA: 0s - loss: 0.0254\n",
      "Epoch 15: val_loss improved from 0.09757 to 0.09686, saving model to weights.h5\n",
      "13/13 [==============================] - 1s 99ms/step - loss: 0.0254 - val_loss: 0.0969 - lr: 0.0100\n",
      "Epoch 16/30\n",
      "12/13 [==========================>...] - ETA: 0s - loss: 0.0265\n",
      "Epoch 16: val_loss did not improve from 0.09686\n",
      "13/13 [==============================] - 1s 97ms/step - loss: 0.0266 - val_loss: 0.1245 - lr: 0.0100\n",
      "Epoch 17/30\n",
      "12/13 [==========================>...] - ETA: 0s - loss: 0.0282\n",
      "Epoch 17: val_loss did not improve from 0.09686\n",
      "13/13 [==============================] - 1s 97ms/step - loss: 0.0283 - val_loss: 0.1392 - lr: 0.0100\n",
      "Epoch 18/30\n",
      "12/13 [==========================>...] - ETA: 0s - loss: 0.0257\n",
      "Epoch 18: val_loss did not improve from 0.09686\n",
      "13/13 [==============================] - 1s 97ms/step - loss: 0.0257 - val_loss: 0.1126 - lr: 0.0100\n",
      "Epoch 19/30\n",
      "12/13 [==========================>...] - ETA: 0s - loss: 0.0249\n",
      "Epoch 19: val_loss improved from 0.09686 to 0.09070, saving model to weights.h5\n",
      "13/13 [==============================] - 1s 98ms/step - loss: 0.0249 - val_loss: 0.0907 - lr: 0.0100\n",
      "Epoch 20/30\n",
      "12/13 [==========================>...] - ETA: 0s - loss: 0.0252\n",
      "Epoch 20: val_loss did not improve from 0.09070\n",
      "13/13 [==============================] - 1s 98ms/step - loss: 0.0253 - val_loss: 0.0932 - lr: 0.0100\n",
      "Epoch 21/30\n",
      "12/13 [==========================>...] - ETA: 0s - loss: 0.0237\n",
      "Epoch 21: val_loss did not improve from 0.09070\n",
      "13/13 [==============================] - 1s 100ms/step - loss: 0.0237 - val_loss: 0.1147 - lr: 0.0100\n",
      "Epoch 22/30\n",
      "12/13 [==========================>...] - ETA: 0s - loss: 0.0244\n",
      "Epoch 22: val_loss did not improve from 0.09070\n",
      "13/13 [==============================] - 1s 99ms/step - loss: 0.0243 - val_loss: 0.0935 - lr: 0.0100\n",
      "Epoch 23/30\n",
      "12/13 [==========================>...] - ETA: 0s - loss: 0.0237\n",
      "Epoch 23: val_loss did not improve from 0.09070\n",
      "13/13 [==============================] - 1s 98ms/step - loss: 0.0237 - val_loss: 0.0923 - lr: 0.0100\n",
      "Epoch 24/30\n",
      "12/13 [==========================>...] - ETA: 0s - loss: 0.0241\n",
      "Epoch 24: val_loss did not improve from 0.09070\n",
      "13/13 [==============================] - 1s 99ms/step - loss: 0.0240 - val_loss: 0.0917 - lr: 0.0100\n",
      "Epoch 25/30\n",
      "12/13 [==========================>...] - ETA: 0s - loss: 0.0242\n",
      "Epoch 25: val_loss did not improve from 0.09070\n",
      "13/13 [==============================] - 1s 99ms/step - loss: 0.0242 - val_loss: 0.0933 - lr: 0.0100\n",
      "Epoch 26/30\n",
      "12/13 [==========================>...] - ETA: 0s - loss: 0.0244\n",
      "Epoch 26: val_loss did not improve from 0.09070\n",
      "13/13 [==============================] - 1s 98ms/step - loss: 0.0244 - val_loss: 0.0945 - lr: 0.0100\n",
      "Epoch 27/30\n",
      "12/13 [==========================>...] - ETA: 0s - loss: 0.0250\n",
      "Epoch 27: val_loss did not improve from 0.09070\n",
      "13/13 [==============================] - 1s 100ms/step - loss: 0.0250 - val_loss: 0.0943 - lr: 0.0100\n",
      "Epoch 28/30\n",
      "12/13 [==========================>...] - ETA: 0s - loss: 0.0283\n",
      "Epoch 28: val_loss did not improve from 0.09070\n",
      "13/13 [==============================] - 1s 100ms/step - loss: 0.0283 - val_loss: 0.0956 - lr: 0.0100\n",
      "Epoch 29/30\n",
      "12/13 [==========================>...] - ETA: 0s - loss: 0.0231\n",
      "Epoch 29: ReduceLROnPlateau reducing learning rate to 0.004999999888241291.\n",
      "\n",
      "Epoch 29: val_loss did not improve from 0.09070\n",
      "13/13 [==============================] - 1s 99ms/step - loss: 0.0231 - val_loss: 0.0984 - lr: 0.0100\n",
      "Epoch 29: early stopping\n",
      "CPU times: user 1min 34s, sys: 1min 20s, total: 2min 54s\n",
      "Wall time: 40 s\n"
     ]
    }
   ],
   "source": [
    "%%time\n",
    "es = EarlyStopping(monitor='val_loss', min_delta=1e-10, patience=10, verbose=1)\n",
    "rlr = ReduceLROnPlateau(monitor='val_loss', factor=0.5, patience=10, verbose=1)\n",
    "mcp = ModelCheckpoint(filepath='weights.h5', monitor='val_loss', verbose=1, save_best_only=True, save_weights_only=True)\n",
    "\n",
    "tb = TensorBoard('logs')\n",
    "\n",
    "history = model.fit(X_train, y_train, shuffle=True, epochs=30, callbacks=[es, rlr, mcp, tb], validation_split=0.2, verbose=1, batch_size=256)"
   ]
  },
  {
   "cell_type": "markdown",
   "metadata": {},
   "source": [
    "<p>\n",
    "Notes:<br>\n",
    "<ul>\n",
    "<li><b>EarlyStopping</b> - Stop training when a monitored metric has stopped improving.</li>\n",
    "<li><code>monitor</code> - quantity to be monitored.</li>\n",
    "<li><code>min_delta</code> - minimum change in the monitored quantity to qualify as an improvement, i.e. an absolute change of less than <code>min_delta</code>, will count as no improvement.</li>\n",
    "<li><code>patience</code> - number of epochs with no improvement after which training will be stopped.</li>\n",
    "</ul>\n",
    "\n",
    "<ul>\n",
    "<li><b>ReduceLROnPlateau</b> - Reduce learning rate when a metric has stopped improving.</li>\n",
    "<li><code>factor</code> - factor by which the learning rate will be reduced. <code>new_lr = lr * factor</code>.</li>\n",
    "</ul>\n",
    "</p>\n",
    "\n",
    "<hr>\n"
   ]
  },
  {
   "cell_type": "markdown",
   "metadata": {},
   "source": [
    "## 3. Make predictions"
   ]
  },
  {
   "cell_type": "code",
   "execution_count": 9,
   "metadata": {},
   "outputs": [],
   "source": [
    "# Generate list of sequence of days for predictions\n",
    "datelist_future = pd.date_range(datelist_train[-1], periods=n_future, freq='1d').tolist()\n",
    "\n",
    "'''\n",
    "Remeber, we have datelist_train from begining.\n",
    "'''\n",
    "\n",
    "# Convert Pandas Timestamp to Datetime object (for transformation) --> FUTURE\n",
    "datelist_future_ = []\n",
    "for this_timestamp in datelist_future:\n",
    "    datelist_future_.append(this_timestamp.date())"
   ]
  },
  {
   "cell_type": "markdown",
   "metadata": {},
   "source": [
    "### 3.0 Make predictions using future dates"
   ]
  },
  {
   "cell_type": "code",
   "execution_count": 10,
   "metadata": {
    "tags": []
   },
   "outputs": [
    {
     "name": "stdout",
     "output_type": "stream",
     "text": [
      "2/2 [==============================] - 0s 8ms/step\n",
      "118/118 [==============================] - 1s 7ms/step\n"
     ]
    }
   ],
   "source": [
    "# Perform predictions\n",
    "predictions_future = model.predict(X_train[-n_future:])\n",
    "\n",
    "predictions_train = model.predict(X_train[n_past:])"
   ]
  },
  {
   "cell_type": "code",
   "execution_count": 11,
   "metadata": {
    "tags": []
   },
   "outputs": [
    {
     "data": {
      "text/html": [
       "<div>\n",
       "<style scoped>\n",
       "    .dataframe tbody tr th:only-of-type {\n",
       "        vertical-align: middle;\n",
       "    }\n",
       "\n",
       "    .dataframe tbody tr th {\n",
       "        vertical-align: top;\n",
       "    }\n",
       "\n",
       "    .dataframe thead th {\n",
       "        text-align: right;\n",
       "    }\n",
       "</style>\n",
       "<table border=\"1\" class=\"dataframe\">\n",
       "  <thead>\n",
       "    <tr style=\"text-align: right;\">\n",
       "      <th></th>\n",
       "      <th>Open</th>\n",
       "    </tr>\n",
       "  </thead>\n",
       "  <tbody>\n",
       "    <tr>\n",
       "      <th>2005-08-01</th>\n",
       "      <td>176.699631</td>\n",
       "    </tr>\n",
       "    <tr>\n",
       "      <th>2005-08-02</th>\n",
       "      <td>177.227097</td>\n",
       "    </tr>\n",
       "    <tr>\n",
       "      <th>2005-08-03</th>\n",
       "      <td>177.594193</td>\n",
       "    </tr>\n",
       "  </tbody>\n",
       "</table>\n",
       "</div>"
      ],
      "text/plain": [
       "                  Open\n",
       "2005-08-01  176.699631\n",
       "2005-08-02  177.227097\n",
       "2005-08-03  177.594193"
      ]
     },
     "execution_count": 11,
     "metadata": {},
     "output_type": "execute_result"
    }
   ],
   "source": [
    "# Inverse the predictions to original measurements\n",
    "\n",
    "# ---> Special function: convert <datetime.date> to <Timestamp>\n",
    "def datetime_to_timestamp(x):\n",
    "    '''\n",
    "        x : a given datetime value (datetime.date)\n",
    "    '''\n",
    "    return datetime.strptime(x.strftime('%Y%m%d'), '%Y%m%d')\n",
    "\n",
    "\n",
    "y_pred_future = sc_predict.inverse_transform(predictions_future)\n",
    "y_pred_train = sc_predict.inverse_transform(predictions_train)\n",
    "\n",
    "PREDICTIONS_FUTURE = pd.DataFrame(y_pred_future, columns=['Open']).set_index(pd.Series(datelist_future))\n",
    "PREDICTION_TRAIN = pd.DataFrame(y_pred_train, columns=['Open']).set_index(pd.Series(datelist_train[2 * n_past + n_future -1:]))\n",
    "\n",
    "# Convert <datetime.date> to <Timestamp> for PREDCITION_TRAIN\n",
    "PREDICTION_TRAIN.index = PREDICTION_TRAIN.index.to_series().apply(datetime_to_timestamp)\n",
    "\n",
    "PREDICTION_TRAIN.head(3)"
   ]
  },
  {
   "cell_type": "markdown",
   "metadata": {},
   "source": [
    "### 3.1 Visualization"
   ]
  },
  {
   "cell_type": "code",
   "execution_count": 12,
   "metadata": {},
   "outputs": [
    {
     "data": {
      "image/png": "[encoded data removed]",
      "text/plain": [
       "<Figure size 1400x500 with 1 Axes>"
      ]
     },
     "metadata": {},
     "output_type": "display_data"
    }
   ],
   "source": [
    "# Set plot size \n",
    "from pylab import rcParams\n",
    "rcParams['figure.figsize'] = 14, 5\n",
    "\n",
    "# Plot parameters\n",
    "START_DATE_FOR_PLOTTING = '2012-06-01'\n",
    "\n",
    "plt.plot(PREDICTIONS_FUTURE.index, PREDICTIONS_FUTURE['Open'], color='r', label='Predicted Stock Price')\n",
    "plt.plot(PREDICTION_TRAIN.loc[START_DATE_FOR_PLOTTING:].index, PREDICTION_TRAIN.loc[START_DATE_FOR_PLOTTING:]['Open'], color='orange', label='Training predictions')\n",
    "plt.plot(dataset_train.loc[START_DATE_FOR_PLOTTING:].index, dataset_train.loc[START_DATE_FOR_PLOTTING:]['Open'], color='b', label='Actual Stock Price')\n",
    "\n",
    "plt.axvline(x = min(PREDICTIONS_FUTURE.index), color='green', linewidth=2, linestyle='--')\n",
    "\n",
    "plt.grid(which='major', color='#cccccc', alpha=0.5)\n",
    "\n",
    "plt.legend(shadow=True)\n",
    "plt.title('Predcitions and Acutal Stock Prices', family='Arial', fontsize=12)\n",
    "plt.xlabel('Timeline', family='Arial', fontsize=10)\n",
    "plt.ylabel('Stock Price Value', family='Arial', fontsize=10)\n",
    "plt.xticks(rotation=45, fontsize=8)\n",
    "plt.show()"
   ]
  },
  {
   "cell_type": "code",
   "execution_count": 13,
   "metadata": {
    "tags": []
   },
   "outputs": [],
   "source": [
    "# Parse training set timestamp for better visualization\n",
    "dataset_train = pd.DataFrame(dataset_train, columns=cols)\n",
    "dataset_train.index = datelist_train\n",
    "dataset_train.index = pd.to_datetime(dataset_train.index)"
   ]
  },
  {
   "cell_type": "code",
   "execution_count": null,
   "metadata": {},
   "outputs": [],
   "source": []
  }
 ],
 "metadata": {
  "kernelspec": {
   "display_name": "Python 3 (ipykernel)",
   "language": "python",
   "name": "python3"
  },
  "language_info": {
   "codemirror_mode": {
    "name": "ipython",
    "version": 3
   },
   "file_extension": ".py",
   "mimetype": "text/x-python",
   "name": "python",
   "nbconvert_exporter": "python",
   "pygments_lexer": "ipython3",
   "version": "3.9.13"
  }
 },
 "nbformat": 4,
 "nbformat_minor": 2
}
